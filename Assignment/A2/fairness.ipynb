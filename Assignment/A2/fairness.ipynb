{
 "cells": [
  {
   "cell_type": "code",
   "execution_count": 75,
   "metadata": {},
   "outputs": [],
   "source": [
    "import pandas as pd"
   ]
  },
  {
   "cell_type": "code",
   "execution_count": 76,
   "metadata": {},
   "outputs": [],
   "source": [
    "res = pd.read_csv('Dataset/result.csv')"
   ]
  },
  {
   "cell_type": "code",
   "execution_count": 77,
   "metadata": {},
   "outputs": [
    {
     "data": {
      "text/plain": [
       "array(['AfricanAmerican', 'Caucasian', 'Other', 'Hispanic', 'Unknown',\n",
       "       'Asian'], dtype=object)"
      ]
     },
     "execution_count": 77,
     "metadata": {},
     "output_type": "execute_result"
    }
   ],
   "source": [
    "races = res.race.unique()\n",
    "races"
   ]
  },
  {
   "cell_type": "markdown",
   "metadata": {},
   "source": [
    "### Demographic Parity"
   ]
  },
  {
   "cell_type": "code",
   "execution_count": 78,
   "metadata": {},
   "outputs": [],
   "source": [
    "def demo_parity(race: str):\n",
    "    num_race = len(res[res['race'] == race])\n",
    "    predict_true = len(res[(res['predicted'] == 1) & (res['race'] == race)])\n",
    "    return predict_true/num_race"
   ]
  },
  {
   "cell_type": "code",
   "execution_count": 79,
   "metadata": {},
   "outputs": [],
   "source": [
    "demo_parity_dict = {}\n",
    "for race in races:\n",
    "    demo_parity_dict[race] = demo_parity(race)"
   ]
  },
  {
   "cell_type": "code",
   "execution_count": 80,
   "metadata": {},
   "outputs": [
    {
     "data": {
      "text/plain": [
       "{'AfricanAmerican': 0.3929016189290162,\n",
       " 'Caucasian': 0.38069063461589037,\n",
       " 'Other': 0.3061760840998686,\n",
       " 'Hispanic': 0.34960159362549803,\n",
       " 'Unknown': 0.2237403928266439,\n",
       " 'Asian': 0.26573426573426573}"
      ]
     },
     "execution_count": 80,
     "metadata": {},
     "output_type": "execute_result"
    }
   ],
   "source": [
    "demo_parity_dict"
   ]
  },
  {
   "cell_type": "markdown",
   "metadata": {},
   "source": [
    "### Equalized Opportunity"
   ]
  },
  {
   "cell_type": "code",
   "execution_count": 81,
   "metadata": {},
   "outputs": [],
   "source": [
    "def equal_opportunity(race: str):\n",
    "    tp = len(res[(res['readmit_30_days'] == 1) & (res['predicted'] == 1) & (res['race'] == race)] )\n",
    "    num_race = len(res[res['readmit_30_days'] == 1 & (res['race'] == race) ])\n",
    "    return tp/num_race"
   ]
  },
  {
   "cell_type": "code",
   "execution_count": 82,
   "metadata": {},
   "outputs": [
    {
     "data": {
      "text/plain": [
       "{'AfricanAmerican': 0.015799379688784032,\n",
       " 'Caucasian': 0.1444486643878972,\n",
       " 'Other': 0.0007389493483810291,\n",
       " 'Hispanic': 0.0011021886317115414,\n",
       " 'Unknown': 0.0008129346942462289,\n",
       " 'Asian': 0.0003329412025836237}"
      ]
     },
     "execution_count": 82,
     "metadata": {},
     "output_type": "execute_result"
    }
   ],
   "source": [
    "equal_opp_dict = {}\n",
    "for race in races:\n",
    "    equal_opp_dict[race] = equal_opportunity(race)\n",
    "\n",
    "equal_opp_dict\n",
    "    "
   ]
  },
  {
   "cell_type": "markdown",
   "metadata": {},
   "source": [
    "### Equalized Odds"
   ]
  },
  {
   "cell_type": "code",
   "execution_count": 83,
   "metadata": {},
   "outputs": [],
   "source": [
    "def equalized_odds(race: str):\n",
    "    tp = len(res[(res['readmit_30_days'] == 1) & (res['predicted'] == 1) & (res['race'] == race)] )\n",
    "    positive_num_race = len(res[res['readmit_30_days'] == 1 & (res['race'] == race) ])\n",
    "    fp = len(res[(res['readmit_30_days'] == 0) & (res['predicted'] == 1) & (res['race'] == race)] )\n",
    "    negative_num_race = len(res[res['readmit_30_days'] == 0 & (res['race'] == race) ])\n",
    "    return tp/positive_num_race, fp/negative_num_race"
   ]
  },
  {
   "cell_type": "code",
   "execution_count": 84,
   "metadata": {},
   "outputs": [
    {
     "data": {
      "text/plain": [
       "{'AfricanAmerican': (0.015799379688784032, 0.07046142292315508),\n",
       " 'Caucasian': (0.1444486643878972, 0.2693216707529874),\n",
       " 'Other': (0.0007389493483810291, 0.004417644070417247),\n",
       " 'Hispanic': (0.0011021886317115414, 0.006670642546330042),\n",
       " 'Unknown': (0.0008129346942462289, 0.004991937799571488),\n",
       " 'Asian': (0.0003329412025836237, 0.0013473814414772603)}"
      ]
     },
     "execution_count": 84,
     "metadata": {},
     "output_type": "execute_result"
    }
   ],
   "source": [
    "equal_odd_dict = {}\n",
    "for race in races:\n",
    "    equal_odd_dict[race] = equalized_odds(race)\n",
    "\n",
    "equal_odd_dict"
   ]
  },
  {
   "cell_type": "markdown",
   "metadata": {},
   "source": [
    "### Conditional Statistical Parity"
   ]
  },
  {
   "cell_type": "code",
   "execution_count": 85,
   "metadata": {},
   "outputs": [],
   "source": [
    "L = ['gender', 'age']"
   ]
  },
  {
   "cell_type": "code",
   "execution_count": 86,
   "metadata": {},
   "outputs": [],
   "source": [
    "import pandas as pd\n",
    "import itertools\n",
    "\n",
    "def get_combinations(df, columns):\n",
    "    column_values = [df[column].unique() for column in columns]\n",
    "    combinations = list(itertools.product(*column_values))\n",
    "    return combinations"
   ]
  },
  {
   "cell_type": "code",
   "execution_count": 87,
   "metadata": {},
   "outputs": [
    {
     "data": {
      "text/plain": [
       "[('Male', '30-60 years'),\n",
       " ('Male', 'Over 60 years'),\n",
       " ('Male', '30 years or younger'),\n",
       " ('Female', '30-60 years'),\n",
       " ('Female', 'Over 60 years'),\n",
       " ('Female', '30 years or younger')]"
      ]
     },
     "execution_count": 87,
     "metadata": {},
     "output_type": "execute_result"
    }
   ],
   "source": [
    "combinations = get_combinations(res, L)\n",
    "combinations"
   ]
  },
  {
   "cell_type": "code",
   "execution_count": 88,
   "metadata": {},
   "outputs": [],
   "source": [
    "cond_stat_parity_dict = {}"
   ]
  },
  {
   "cell_type": "code",
   "execution_count": 89,
   "metadata": {},
   "outputs": [],
   "source": [
    "def cond_stat_parity(race: str):\n",
    "    for comb in res[L].drop_duplicates().values:\n",
    "        len(res[res[L].isin(comb).all(axis=1)]), len(res) # all: 满足L中所有col的条件\n",
    "        numerator = len(res[(res[L].isin(comb).all(axis=1)) & (res['predicted'] == 1) & (res['race'] == race)])\n",
    "        denominator = len(res[(res[L].isin(comb).all(axis=1)) & (res['race'] == race)])\n",
    "        cond_stat_parity_dict[(race,)+tuple(comb)] = numerator/denominator if denominator !=0 else 0"
   ]
  },
  {
   "cell_type": "code",
   "execution_count": 90,
   "metadata": {},
   "outputs": [],
   "source": [
    "for race in races:\n",
    "    cond_stat_parity(race)"
   ]
  },
  {
   "cell_type": "code",
   "execution_count": 91,
   "metadata": {},
   "outputs": [
    {
     "data": {
      "text/plain": [
       "36"
      ]
     },
     "execution_count": 91,
     "metadata": {},
     "output_type": "execute_result"
    }
   ],
   "source": [
    "len(cond_stat_parity_dict) # 6 group of race * 6 combinations of (age,gender)"
   ]
  },
  {
   "cell_type": "code",
   "execution_count": 92,
   "metadata": {},
   "outputs": [
    {
     "data": {
      "text/plain": [
       "{('AfricanAmerican', 'Male', '30-60 years'): 0.35823429541595925,\n",
       " ('AfricanAmerican', 'Female', '30-60 years'): 0.3650727650727651,\n",
       " ('AfricanAmerican', 'Male', 'Over 60 years'): 0.4205405405405405,\n",
       " ('AfricanAmerican', 'Female', 'Over 60 years'): 0.43197278911564624,\n",
       " ('AfricanAmerican', 'Male', '30 years or younger'): 0.2366412213740458,\n",
       " ('AfricanAmerican', 'Female', '30 years or younger'): 0.27710843373493976,\n",
       " ('Caucasian', 'Male', '30-60 years'): 0.3179135731962688,\n",
       " ('Caucasian', 'Female', '30-60 years'): 0.34221396117306896,\n",
       " ('Caucasian', 'Male', 'Over 60 years'): 0.3995428391266651,\n",
       " ('Caucasian', 'Female', 'Over 60 years'): 0.40480298116072044,\n",
       " ('Caucasian', 'Male', '30 years or younger'): 0.2049469964664311,\n",
       " ('Caucasian', 'Female', '30 years or younger'): 0.33190578158458245,\n",
       " ('Other', 'Male', '30-60 years'): 0.2883435582822086,\n",
       " ('Other', 'Female', '30-60 years'): 0.2288135593220339,\n",
       " ('Other', 'Male', 'Over 60 years'): 0.33495145631067963,\n",
       " ('Other', 'Female', 'Over 60 years'): 0.3373015873015873,\n",
       " ('Other', 'Male', '30 years or younger'): 0.08333333333333333,\n",
       " ('Other', 'Female', '30 years or younger'): 0.4,\n",
       " ('Hispanic', 'Male', '30-60 years'): 0.2909090909090909,\n",
       " ('Hispanic', 'Female', '30-60 years'): 0.2681818181818182,\n",
       " ('Hispanic', 'Male', 'Over 60 years'): 0.47413793103448276,\n",
       " ('Hispanic', 'Female', 'Over 60 years'): 0.3783783783783784,\n",
       " ('Hispanic', 'Male', '30 years or younger'): 0.29411764705882354,\n",
       " ('Hispanic', 'Female', '30 years or younger'): 0.05263157894736842,\n",
       " ('Unknown', 'Male', '30-60 years'): 0.14444444444444443,\n",
       " ('Unknown', 'Female', '30-60 years'): 0.13291139240506328,\n",
       " ('Unknown', 'Male', 'Over 60 years'): 0.29594272076372313,\n",
       " ('Unknown', 'Female', 'Over 60 years'): 0.23636363636363636,\n",
       " ('Unknown', 'Male', '30 years or younger'): 0.0,\n",
       " ('Unknown', 'Female', '30 years or younger'): 0.0,\n",
       " ('Asian', 'Male', '30-60 years'): 0.17307692307692307,\n",
       " ('Asian', 'Female', '30-60 years'): 0.19230769230769232,\n",
       " ('Asian', 'Male', 'Over 60 years'): 0.31313131313131315,\n",
       " ('Asian', 'Female', 'Over 60 years'): 0.30097087378640774,\n",
       " ('Asian', 'Male', '30 years or younger'): 0,\n",
       " ('Asian', 'Female', '30 years or younger'): 0.0}"
      ]
     },
     "execution_count": 92,
     "metadata": {},
     "output_type": "execute_result"
    }
   ],
   "source": [
    "cond_stat_parity_dict"
   ]
  },
  {
   "cell_type": "markdown",
   "metadata": {},
   "source": [
    "\n",
    "## Get Pairwise Ratio"
   ]
  },
  {
   "cell_type": "code",
   "execution_count": 93,
   "metadata": {},
   "outputs": [],
   "source": [
    "# demographic parity\n",
    "ratios = []\n",
    "for i in range(len(races)):\n",
    "    for j in range(i+1,len(races)):\n",
    "        if demo_parity_dict[races[i]] < demo_parity_dict[races[j]]:\n",
    "            temp = demo_parity_dict[races[i]]/demo_parity_dict[races[j]]\n",
    "            ratios.append((races[i],races[j], temp))\n",
    "        else:\n",
    "            temp = demo_parity_dict[races[j]]/demo_parity_dict[races[i]]\n",
    "            ratios.append((races[j],races[i], temp))    \n"
   ]
  },
  {
   "cell_type": "code",
   "execution_count": 94,
   "metadata": {},
   "outputs": [
    {
     "data": {
      "text/plain": [
       "(15,\n",
       " [('Caucasian', 'AfricanAmerican', 0.9689210129843422),\n",
       "  ('Other', 'AfricanAmerican', 0.7792690825109174),\n",
       "  ('Hispanic', 'AfricanAmerican', 0.8897942303685417),\n",
       "  ('Unknown', 'AfricanAmerican', 0.5694565307125041),\n",
       "  ('Asian', 'AfricanAmerican', 0.6763379251493356),\n",
       "  ('Other', 'Caucasian', 0.8042648183578103),\n",
       "  ('Hispanic', 'Caucasian', 0.9183351567821977),\n",
       "  ('Unknown', 'Caucasian', 0.5877223458685652),\n",
       "  ('Asian', 'Caucasian', 0.6980320543014844),\n",
       "  ('Other', 'Hispanic', 0.8757857220406496),\n",
       "  ('Unknown', 'Other', 0.730757248674146),\n",
       "  ('Asian', 'Other', 0.8679132026771512),\n",
       "  ('Unknown', 'Hispanic', 0.6399867646665255),\n",
       "  ('Asian', 'Hispanic', 0.7601059908752216),\n",
       "  ('Unknown', 'Asian', 0.8419704256371073)])"
      ]
     },
     "execution_count": 94,
     "metadata": {},
     "output_type": "execute_result"
    }
   ],
   "source": [
    "len(ratios), ratios"
   ]
  },
  {
   "cell_type": "code",
   "execution_count": 95,
   "metadata": {},
   "outputs": [
    {
     "name": "stdout",
     "output_type": "stream",
     "text": [
      "('AfricanAmerican', 'Unknown') ('AfricanAmerican', 'Caucasian')\n",
      "0.1691612261023723 0.012210984313125839\n"
     ]
    }
   ],
   "source": [
    "max_diff = float('-inf')\n",
    "min_diff = float('inf')\n",
    "\n",
    "for key1, value1 in demo_parity_dict.items():\n",
    "    for key2, value2 in demo_parity_dict.items():\n",
    "        if key1 != key2:\n",
    "            diff = abs(value1 - value2)\n",
    "            if diff > max_diff:\n",
    "                max_diff = diff\n",
    "                max_diff_keys = (key1, key2)\n",
    "            if diff < min_diff:\n",
    "                min_diff = diff\n",
    "                min_diff_keys = (key1, key2)\n",
    "\n",
    "print(max_diff_keys, min_diff_keys)\n",
    "print(max_diff, min_diff)"
   ]
  },
  {
   "cell_type": "code",
   "execution_count": 96,
   "metadata": {},
   "outputs": [],
   "source": [
    "smallest_ratio = min(ratios, key=lambda x: x[2])\n",
    "largest_ratio = max(ratios, key=lambda x: x[2])\n",
    "maximum_parity = max(demo_parity_dict, key=demo_parity_dict.get)"
   ]
  },
  {
   "cell_type": "code",
   "execution_count": 97,
   "metadata": {},
   "outputs": [
    {
     "name": "stdout",
     "output_type": "stream",
     "text": [
      "Demographic Parity\n",
      "\n",
      "AfricanAmerican | 0.3929\n",
      "Caucasian | 0.3807\n",
      "Other | 0.3062\n",
      "Hispanic | 0.3496\n",
      "Unknown | 0.2237\n",
      "Asian | 0.2657\n",
      "\n",
      "max difference: ('AfricanAmerican', 'Unknown') | 0.1692\n",
      "min difference: ('AfricanAmerican', 'Caucasian') | 0.0122\n",
      "smallest ratio: ('Unknown', 'AfricanAmerican', 0.5694565307125041)\n",
      "largest ratio: ('Caucasian', 'AfricanAmerican', 0.9689210129843422)\n",
      "maximum indicator: AfricanAmerican | 0.3929\n"
     ]
    }
   ],
   "source": [
    "print('Demographic Parity\\n')\n",
    "for race, score in demo_parity_dict.items():\n",
    "    print(f\"{race} | {score:.4f}\")\n",
    "\n",
    "print()\n",
    "print(f'max difference: {max_diff_keys} | {max_diff:.4f}')\n",
    "print(f'min difference: {min_diff_keys} | {min_diff:.4f}')\n",
    "print(f'smallest ratio: {smallest_ratio}')\n",
    "print(f'largest ratio: {largest_ratio}')\n",
    "print(f'maximum indicator: {maximum_parity} | {demo_parity_dict[maximum_parity]:.4f}')"
   ]
  },
  {
   "cell_type": "markdown",
   "metadata": {},
   "source": [
    "#### Fairness metrics"
   ]
  },
  {
   "cell_type": "code",
   "execution_count": 98,
   "metadata": {},
   "outputs": [],
   "source": [
    "def fairness_metrics(data: dict):\n",
    "    ratios = []\n",
    "    for i in range(len(races)):\n",
    "        for j in range(i+1,len(races)):\n",
    "            if data[races[i]] < data[races[j]]:\n",
    "                temp = data[races[i]]/data[races[j]]\n",
    "                ratios.append((races[i],races[j], temp))\n",
    "            else:\n",
    "                temp = data[races[j]]/data[races[i]]\n",
    "                ratios.append((races[j],races[i], temp)) \n",
    "\n",
    "    max_diff = float('-inf')\n",
    "    min_diff = float('inf')\n",
    "\n",
    "    for key1, value1 in data.items():\n",
    "        for key2, value2 in data.items():\n",
    "            if key1 != key2:\n",
    "                diff = abs(value1 - value2)\n",
    "                if diff > max_diff:\n",
    "                    max_diff = diff\n",
    "                    max_diff_keys = (key1, key2)\n",
    "                if diff < min_diff:\n",
    "                    min_diff = diff\n",
    "                    min_diff_keys = (key1, key2)\n",
    "\n",
    "    smallest_ratio = min(ratios, key=lambda x: x[2])\n",
    "    largest_ratio = max(ratios, key=lambda x: x[2])\n",
    "    maximum_parity = max(data, key=data.get)\n",
    "\n",
    "    for race, score in data.items():\n",
    "        print(f\"{race} | {score:.4f}\")\n",
    "\n",
    "    print()\n",
    "    print(f'max difference: {max_diff_keys} | {max_diff:.4f}')\n",
    "    print(f'min difference: {min_diff_keys} | {min_diff:.4f}')\n",
    "    print(f'smallest ratio: {smallest_ratio}')\n",
    "    print(f'largest ratio: {largest_ratio}')\n",
    "    print(f'maximum indicator: {maximum_parity} | {data[maximum_parity]:.4f}')\n"
   ]
  },
  {
   "cell_type": "markdown",
   "metadata": {},
   "source": [
    "#### Demo Parity"
   ]
  },
  {
   "cell_type": "code",
   "execution_count": 99,
   "metadata": {},
   "outputs": [
    {
     "name": "stdout",
     "output_type": "stream",
     "text": [
      "Demographic Parity\n",
      "\n",
      "AfricanAmerican | 0.3929\n",
      "Caucasian | 0.3807\n",
      "Other | 0.3062\n",
      "Hispanic | 0.3496\n",
      "Unknown | 0.2237\n",
      "Asian | 0.2657\n",
      "\n",
      "max difference: ('AfricanAmerican', 'Unknown') | 0.1692\n",
      "min difference: ('AfricanAmerican', 'Caucasian') | 0.0122\n",
      "smallest ratio: ('Unknown', 'AfricanAmerican', 0.5694565307125041)\n",
      "largest ratio: ('Caucasian', 'AfricanAmerican', 0.9689210129843422)\n",
      "maximum indicator: AfricanAmerican | 0.3929\n"
     ]
    }
   ],
   "source": [
    "print('Demographic Parity\\n')\n",
    "fairness_metrics(demo_parity_dict)"
   ]
  },
  {
   "cell_type": "markdown",
   "metadata": {},
   "source": [
    "#### Equalized Opportunity"
   ]
  },
  {
   "cell_type": "code",
   "execution_count": 100,
   "metadata": {},
   "outputs": [
    {
     "name": "stdout",
     "output_type": "stream",
     "text": [
      "Equalized Opportunity\n",
      "\n",
      "AfricanAmerican | 0.0158\n",
      "Caucasian | 0.1444\n",
      "Other | 0.0007\n",
      "Hispanic | 0.0011\n",
      "Unknown | 0.0008\n",
      "Asian | 0.0003\n",
      "\n",
      "max difference: ('Caucasian', 'Asian') | 0.1441\n",
      "min difference: ('Other', 'Unknown') | 0.0001\n",
      "smallest ratio: ('Asian', 'Caucasian', 0.0023049102184119576)\n",
      "largest ratio: ('Other', 'Unknown', 0.9089898039918192)\n",
      "maximum indicator: Caucasian | 0.1444\n"
     ]
    }
   ],
   "source": [
    "print('Equalized Opportunity\\n')\n",
    "fairness_metrics(equal_opp_dict)"
   ]
  },
  {
   "cell_type": "markdown",
   "metadata": {},
   "source": [
    "#### Equalized Odds"
   ]
  },
  {
   "cell_type": "code",
   "execution_count": 101,
   "metadata": {},
   "outputs": [],
   "source": [
    "equal_odd_true_dict = {}\n",
    "equal_odd_false_dict = {}\n",
    "\n",
    "for key, value in equal_odd_dict.items():\n",
    "    equal_odd_true_dict[key] = value[0]\n",
    "    equal_odd_false_dict[key] = value[1]"
   ]
  },
  {
   "cell_type": "code",
   "execution_count": 102,
   "metadata": {},
   "outputs": [
    {
     "name": "stdout",
     "output_type": "stream",
     "text": [
      "Equalized Odds (True)\n",
      "\n",
      "AfricanAmerican | 0.0158\n",
      "Caucasian | 0.1444\n",
      "Other | 0.0007\n",
      "Hispanic | 0.0011\n",
      "Unknown | 0.0008\n",
      "Asian | 0.0003\n",
      "\n",
      "max difference: ('Caucasian', 'Asian') | 0.1441\n",
      "min difference: ('Other', 'Unknown') | 0.0001\n",
      "smallest ratio: ('Asian', 'Caucasian', 0.0023049102184119576)\n",
      "largest ratio: ('Other', 'Unknown', 0.9089898039918192)\n",
      "maximum indicator: Caucasian | 0.1444\n",
      "Equalized Odds (False)\n",
      "\n",
      "AfricanAmerican | 0.0705\n",
      "Caucasian | 0.2693\n",
      "Other | 0.0044\n",
      "Hispanic | 0.0067\n",
      "Unknown | 0.0050\n",
      "Asian | 0.0013\n",
      "\n",
      "max difference: ('Caucasian', 'Asian') | 0.2680\n",
      "min difference: ('Other', 'Unknown') | 0.0006\n",
      "smallest ratio: ('Asian', 'Caucasian', 0.005002870499466908)\n",
      "largest ratio: ('Other', 'Unknown', 0.8849557522123895)\n",
      "maximum indicator: Caucasian | 0.2693\n"
     ]
    }
   ],
   "source": [
    "print('Equalized Odds (True)\\n')\n",
    "fairness_metrics(equal_odd_true_dict)\n",
    "print('Equalized Odds (False)\\n')\n",
    "fairness_metrics(equal_odd_false_dict)"
   ]
  },
  {
   "cell_type": "markdown",
   "metadata": {},
   "source": [
    "#### Conditional Statistical Parity"
   ]
  },
  {
   "cell_type": "code",
   "execution_count": 103,
   "metadata": {},
   "outputs": [],
   "source": [
    "data = cond_stat_parity_dict\n",
    "max_diff_dict = {}\n",
    "min_diff_dict = {}\n",
    "max_diff_keys_dict = {}\n",
    "min_diff_keys_dict = {}\n",
    "ratios = {}\n",
    "\n",
    "for comb in combinations:\n",
    "    comb_ratios = []\n",
    "    max_diff = float('-inf')\n",
    "    min_diff = float('inf')\n",
    "    max_diff_keys = None\n",
    "    min_diff_keys = None\n",
    "    for i in range(len(races)):\n",
    "        for j in range(i+1,len(races)):\n",
    "            id1 = (races[i],) + comb\n",
    "            id2 = (races[j],) + comb\n",
    "            diff = abs(data[id1]-data[id2])\n",
    "            if diff > max_diff:\n",
    "                max_diff = diff\n",
    "                max_diff_keys = (races[i], races[j])\n",
    "            if diff < min_diff:\n",
    "                min_diff = diff\n",
    "                min_diff_keys = (races[i], races[j])\n",
    "\n",
    "            if data[id1] < data[id2]:\n",
    "                temp = data[id1]/data[id2] if data[id2] != 0 else 0\n",
    "                comb_ratios.append((races[i], races[j], comb, temp))\n",
    "            else:\n",
    "                temp = data[id2]/data[id1] if data[id1] != 0 else 0\n",
    "                comb_ratios.append((races[j], races[i], comb, temp))\n",
    "\n",
    "    ratios[comb] = comb_ratios\n",
    "    max_diff_dict[comb] = max_diff\n",
    "    min_diff_dict[comb] = min_diff\n",
    "    max_diff_keys_dict[comb] = max_diff_keys\n",
    "    min_diff_keys_dict[comb] = min_diff_keys"
   ]
  },
  {
   "cell_type": "code",
   "execution_count": 104,
   "metadata": {},
   "outputs": [
    {
     "data": {
      "text/plain": [
       "[('Caucasian', 'AfricanAmerican', ('Male', '30-60 years'), 0.8874459460312906),\n",
       " ('Other', 'AfricanAmerican', ('Male', '30-60 years'), 0.8049021603233216),\n",
       " ('Hispanic', 'AfricanAmerican', ('Male', '30-60 years'), 0.812063765618268),\n",
       " ('Unknown', 'AfricanAmerican', ('Male', '30-60 years'), 0.4032122169562928),\n",
       " ('Asian', 'AfricanAmerican', ('Male', '30-60 years'), 0.48313889901567625),\n",
       " ('Other', 'Caucasian', ('Male', '30-60 years'), 0.9069872524888873),\n",
       " ('Hispanic', 'Caucasian', ('Male', '30-60 years'), 0.9150571584104519),\n",
       " ('Unknown', 'Caucasian', ('Male', '30-60 years'), 0.4543512974051896),\n",
       " ('Asian', 'Caucasian', ('Male', '30-60 years'), 0.5444150161216029),\n",
       " ('Other', 'Hispanic', ('Male', '30-60 years'), 0.991180981595092),\n",
       " ('Unknown', 'Other', ('Male', '30-60 years'), 0.5009456264775414),\n",
       " ('Asian', 'Other', ('Male', '30-60 years'), 0.6002454991816694),\n",
       " ('Unknown', 'Hispanic', ('Male', '30-60 years'), 0.49652777777777773),\n",
       " ('Asian', 'Hispanic', ('Male', '30-60 years'), 0.5949519230769231),\n",
       " ('Unknown', 'Asian', ('Male', '30-60 years'), 0.8345679012345678)]"
      ]
     },
     "execution_count": 104,
     "metadata": {},
     "output_type": "execute_result"
    }
   ],
   "source": [
    "ratios[('Male', '30-60 years')]"
   ]
  },
  {
   "cell_type": "code",
   "execution_count": 105,
   "metadata": {},
   "outputs": [
    {
     "data": {
      "text/plain": [
       "(6, 15)"
      ]
     },
     "execution_count": 105,
     "metadata": {},
     "output_type": "execute_result"
    }
   ],
   "source": [
    "len(ratios), len(ratios[combinations[0]]) # 6 combinations of (gender, age), 6 * 15 = 90"
   ]
  },
  {
   "cell_type": "code",
   "execution_count": 106,
   "metadata": {},
   "outputs": [
    {
     "name": "stdout",
     "output_type": "stream",
     "text": [
      "L = ('Male', '30-60 years')\n",
      "AfricanAmerican | 0.3582\n",
      "Caucasian | 0.3179\n",
      "Other | 0.2883\n",
      "Hispanic | 0.2909\n",
      "Unknown | 0.1444\n",
      "Asian | 0.1731\n",
      "Maximum indicator: 0.3582\n",
      "\n",
      "max difference: ('AfricanAmerican', 'Unknown') | 0.2138\n",
      "min difference: ('Other', 'Hispanic') | 0.0026\n",
      "smallest ratio: Unknown, AfricanAmerican | 0.4032122169562928\n",
      "largest ratio: Other, Hispanic | 0.991180981595092\n",
      "---------------------\n",
      "L = ('Male', 'Over 60 years')\n",
      "AfricanAmerican | 0.4205\n",
      "Caucasian | 0.3995\n",
      "Other | 0.3350\n",
      "Hispanic | 0.4741\n",
      "Unknown | 0.2959\n",
      "Asian | 0.3131\n",
      "Maximum indicator: 0.4741\n",
      "\n",
      "max difference: ('Hispanic', 'Unknown') | 0.1782\n",
      "min difference: ('Unknown', 'Asian') | 0.0172\n",
      "smallest ratio: Unknown, Hispanic | 0.6241701019743979\n",
      "largest ratio: Caucasian, AfricanAmerican | 0.950069733141813\n",
      "---------------------\n",
      "L = ('Male', '30 years or younger')\n",
      "AfricanAmerican | 0.2366\n",
      "Caucasian | 0.2049\n",
      "Other | 0.0833\n",
      "Hispanic | 0.2941\n",
      "Unknown | 0.0000\n",
      "Asian | 0.0000\n",
      "Maximum indicator: 0.2941\n",
      "\n",
      "max difference: ('Hispanic', 'Unknown') | 0.2941\n",
      "min difference: ('Unknown', 'Asian') | 0.0000\n",
      "smallest ratio: Unknown, AfricanAmerican | 0.0\n",
      "largest ratio: Caucasian, AfricanAmerican | 0.8660663399065315\n",
      "---------------------\n",
      "L = ('Female', '30-60 years')\n",
      "AfricanAmerican | 0.3651\n",
      "Caucasian | 0.3422\n",
      "Other | 0.2288\n",
      "Hispanic | 0.2682\n",
      "Unknown | 0.1329\n",
      "Asian | 0.1923\n",
      "Maximum indicator: 0.3651\n",
      "\n",
      "max difference: ('AfricanAmerican', 'Unknown') | 0.2322\n",
      "min difference: ('AfricanAmerican', 'Caucasian') | 0.0229\n",
      "smallest ratio: Unknown, AfricanAmerican | 0.3640682217929125\n",
      "largest ratio: Caucasian, AfricanAmerican | 0.9373856225754337\n",
      "---------------------\n",
      "L = ('Female', 'Over 60 years')\n",
      "AfricanAmerican | 0.4320\n",
      "Caucasian | 0.4048\n",
      "Other | 0.3373\n",
      "Hispanic | 0.3784\n",
      "Unknown | 0.2364\n",
      "Asian | 0.3010\n",
      "Maximum indicator: 0.4320\n",
      "\n",
      "max difference: ('AfricanAmerican', 'Unknown') | 0.1956\n",
      "min difference: ('Caucasian', 'Hispanic') | 0.0264\n",
      "smallest ratio: Unknown, AfricanAmerican | 0.5471725125268433\n",
      "largest ratio: Caucasian, AfricanAmerican | 0.9371029642618253\n",
      "---------------------\n",
      "L = ('Female', '30 years or younger')\n",
      "AfricanAmerican | 0.2771\n",
      "Caucasian | 0.3319\n",
      "Other | 0.4000\n",
      "Hispanic | 0.0526\n",
      "Unknown | 0.0000\n",
      "Asian | 0.0000\n",
      "Maximum indicator: 0.4000\n",
      "\n",
      "max difference: ('Other', 'Unknown') | 0.4000\n",
      "min difference: ('Unknown', 'Asian') | 0.0000\n",
      "smallest ratio: Unknown, AfricanAmerican | 0.0\n",
      "largest ratio: AfricanAmerican, Caucasian | 0.8349008938981733\n",
      "---------------------\n"
     ]
    }
   ],
   "source": [
    "for comb in combinations:\n",
    "    print(f'L = { comb }')\n",
    "    max_val = -1\n",
    "    for race in races:\n",
    "        max_val = max(max_val,data[(race,) + comb])\n",
    "        print(f\"{race} | {data[(race,) + comb]:.4f}\")\n",
    "    print(f'Maximum indicator: {max_val:.4f}')\n",
    "    print()\n",
    "\n",
    "    print(f'max difference: {max_diff_keys_dict[comb]} | {max_diff_dict[comb]:.4f}')\n",
    "    print(f'min difference: {min_diff_keys_dict[comb]} | {min_diff_dict[comb]:.4f}')\n",
    "    temp = min(ratios[comb], key=lambda x: x[3])\n",
    "    print(f'smallest ratio: {temp[0]}, {temp[1]} | {temp[3]}')\n",
    "    temp = max(ratios[comb], key=lambda x: x[3])\n",
    "    print(f'largest ratio: {temp[0]}, {temp[1]} | {temp[3]}')\n",
    "    print('---------------------')\n"
   ]
  },
  {
   "cell_type": "code",
   "execution_count": null,
   "metadata": {},
   "outputs": [],
   "source": []
  }
 ],
 "metadata": {
  "kernelspec": {
   "display_name": "WebMining",
   "language": "python",
   "name": "python3"
  },
  "language_info": {
   "codemirror_mode": {
    "name": "ipython",
    "version": 3
   },
   "file_extension": ".py",
   "mimetype": "text/x-python",
   "name": "python",
   "nbconvert_exporter": "python",
   "pygments_lexer": "ipython3",
   "version": "3.11.4"
  }
 },
 "nbformat": 4,
 "nbformat_minor": 2
}
